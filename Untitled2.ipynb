{
  "nbformat": 4,
  "nbformat_minor": 0,
  "metadata": {
    "colab": {
      "provenance": [],
      "authorship_tag": "ABX9TyNUHvSKfWSXJXAAFh0aVbTS",
      "include_colab_link": true
    },
    "kernelspec": {
      "name": "python3",
      "display_name": "Python 3"
    },
    "language_info": {
      "name": "python"
    }
  },
  "cells": [
    {
      "cell_type": "markdown",
      "metadata": {
        "id": "view-in-github",
        "colab_type": "text"
      },
      "source": [
        "<a href=\"https://colab.research.google.com/github/Katakamsaipraneeth/HYD05_TNS_SVIT/blob/main/Untitled2.ipynb\" target=\"_parent\"><img src=\"https://colab.research.google.com/assets/colab-badge.svg\" alt=\"Open In Colab\"/></a>"
      ]
    },
    {
      "cell_type": "code",
      "execution_count": 1,
      "metadata": {
        "colab": {
          "base_uri": "https://localhost:8080/"
        },
        "id": "4UR2hN25TLts",
        "outputId": "4572895a-f0a2-4541-91b3-989e96617728"
      },
      "outputs": [
        {
          "name": "stdout",
          "output_type": "stream",
          "text": [
            "enter your namesai praneeth\n",
            "enter data of birth:11\n",
            "enter month of birth:3\n",
            "enter year of birth:2003\n",
            "entre our height:6.12\n"
          ]
        }
      ],
      "source": [
        "#normal formating\n",
        "#source code\n",
        "s12=input(\"enter your name\")\n",
        "s13=int(input(\"enter data of birth:\"))\n",
        "s14=int(input(\"enter month of birth:\"))\n",
        "s15=int(input(\"enter year of birth:\"))\n",
        "s16=float(input(\"entre our height:\"))\n"
      ]
    },
    {
      "cell_type": "code",
      "source": [
        "#normal method\n",
        "s17=print(\"name:\",s12)\n",
        "s18=print(\"DOB:\",s13,\"-\",s14,\"-\",s15)\n",
        "s19=print(\"height:\",s16)"
      ],
      "metadata": {
        "colab": {
          "base_uri": "https://localhost:8080/"
        },
        "id": "ooJQ48UcUljG",
        "outputId": "a62cfa42-c37d-4483-daf4-e626ab65515d"
      },
      "execution_count": 4,
      "outputs": [
        {
          "output_type": "stream",
          "name": "stdout",
          "text": [
            "name: sai praneeth\n",
            "DOB: 11 - 3 - 2003\n",
            "height: 6.12\n"
          ]
        }
      ]
    },
    {
      "cell_type": "code",
      "source": [
        "#modulo method\n",
        "s20=print(\"name:%s\"%s12)\n",
        "s21=print(\"DOB:%d-%d-%d\"%(s13,s14,s15))\n",
        "s22=print(\"height:%f\"%s16)\n"
      ],
      "metadata": {
        "colab": {
          "base_uri": "https://localhost:8080/"
        },
        "id": "IJ02XXUqVmyH",
        "outputId": "7d83510c-b432-4b35-cd9c-ef3c45252d34"
      },
      "execution_count": 5,
      "outputs": [
        {
          "output_type": "stream",
          "name": "stdout",
          "text": [
            "name:sai praneeth\n",
            "DOB:11-3-2003\n",
            "height:6.120000\n"
          ]
        }
      ]
    },
    {
      "cell_type": "code",
      "source": [
        "#f-format method\n",
        "s23=print(f\"name:{s12}\")\n",
        "s24=print(f\"DOB:{s13}-{s14}-{s15}\")\n",
        "s25=print(f\"height:{s16}\")"
      ],
      "metadata": {
        "colab": {
          "base_uri": "https://localhost:8080/"
        },
        "id": "ydgtvfVXWVcJ",
        "outputId": "4840b694-f552-4ab4-9ac1-dd4fc3538f2b"
      },
      "execution_count": 7,
      "outputs": [
        {
          "output_type": "stream",
          "name": "stdout",
          "text": [
            "name:sai praneeth\n",
            "DOB:11-3-2003\n",
            "height:6.12\n"
          ]
        }
      ]
    },
    {
      "cell_type": "code",
      "source": [
        "#dot formating methid\n",
        "s26=print(\"name={}\".format(s12))\n",
        "s27=print(\"DOB={}-{}-{}\".format(s13,s14,s15))\n",
        "s28=print(\"height={0:.1f}\".format(s16))\n",
        "\n"
      ],
      "metadata": {
        "colab": {
          "base_uri": "https://localhost:8080/"
        },
        "id": "huAX1pduXHhJ",
        "outputId": "d29c73a4-e871-4e0a-b98f-3ba0d357250c"
      },
      "execution_count": 12,
      "outputs": [
        {
          "output_type": "stream",
          "name": "stdout",
          "text": [
            "name=sai praneeth\n",
            "DOB=11-3-2003\n",
            "height=6.1\n"
          ]
        }
      ]
    }
  ]
}