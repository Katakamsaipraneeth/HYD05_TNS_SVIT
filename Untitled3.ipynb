{
  "nbformat": 4,
  "nbformat_minor": 0,
  "metadata": {
    "colab": {
      "provenance": [],
      "authorship_tag": "ABX9TyNtuLY0/MH8WoDnf3kDQbnh",
      "include_colab_link": true
    },
    "kernelspec": {
      "name": "python3",
      "display_name": "Python 3"
    },
    "language_info": {
      "name": "python"
    }
  },
  "cells": [
    {
      "cell_type": "markdown",
      "metadata": {
        "id": "view-in-github",
        "colab_type": "text"
      },
      "source": [
        "<a href=\"https://colab.research.google.com/github/Katakamsaipraneeth/HYD05_TNS_SVIT/blob/main/Untitled3.ipynb\" target=\"_parent\"><img src=\"https://colab.research.google.com/assets/colab-badge.svg\" alt=\"Open In Colab\"/></a>"
      ]
    },
    {
      "cell_type": "code",
      "execution_count": null,
      "metadata": {
        "id": "eudPkkNs-2yC"
      },
      "outputs": [],
      "source": []
    },
    {
      "cell_type": "markdown",
      "source": [
        "Patterns\n",
        "1.Symbolic patterns\n",
        "2.Numeric patterns\n",
        "3.Combination of symbolic patterns"
      ],
      "metadata": {
        "id": "0SRWTJgO-5kY"
      }
    },
    {
      "cell_type": "code",
      "source": [
        "#Symbolic patterns\n",
        "\n",
        "n=3\n",
        "for i in range(n):\n",
        "  for k in range(n):\n",
        "    print(\"*\",end=\" \")\n",
        "  print()"
      ],
      "metadata": {
        "colab": {
          "base_uri": "https://localhost:8080/"
        },
        "id": "U0y94dMt_INx",
        "outputId": "9a3b1b7e-d9b1-457e-b759-1ce9fe8d788b"
      },
      "execution_count": 3,
      "outputs": [
        {
          "output_type": "stream",
          "name": "stdout",
          "text": [
            "* * * \n",
            "* * * \n",
            "* * * \n"
          ]
        }
      ]
    },
    {
      "cell_type": "code",
      "source": [
        "'''\n",
        "*\n",
        "* *\n",
        "* * *\n",
        "'''\n",
        "n=3\n",
        "for i in range(n):\n",
        "  for j in range(n):\n",
        "    if j<=i:\n",
        "      print(\"*\",end=\" \")\n",
        "    else:\n",
        "      print(\" \",end=\" \")\n",
        "  print()"
      ],
      "metadata": {
        "colab": {
          "base_uri": "https://localhost:8080/"
        },
        "id": "2G45KhWv_rPK",
        "outputId": "fef74e24-e328-41ea-c1fd-495b521ad822"
      },
      "execution_count": 10,
      "outputs": [
        {
          "output_type": "stream",
          "name": "stdout",
          "text": [
            "*     \n",
            "* *   \n",
            "* * * \n"
          ]
        }
      ]
    },
    {
      "cell_type": "code",
      "source": [
        "'''\n",
        "* * *\n",
        "* *\n",
        "*\n",
        "'''\n",
        "rows = int(input(\"Enter the number of rows:\"))\n",
        "\n",
        "for i in range(rows + 1, 0, -1):\n",
        "    for j in range(0, i - 1):\n",
        "        print(\"*\", end=' ')\n",
        "    print(\" \")"
      ],
      "metadata": {
        "colab": {
          "base_uri": "https://localhost:8080/"
        },
        "id": "MKYSKFCYBbmK",
        "outputId": "0a2ddede-a8aa-42bf-95b8-0bebdde1012f"
      },
      "execution_count": 27,
      "outputs": [
        {
          "output_type": "stream",
          "name": "stdout",
          "text": [
            "Enter the number of rows:4\n",
            "* * * *  \n",
            "* * *  \n",
            "* *  \n",
            "*  \n",
            " \n"
          ]
        }
      ]
    },
    {
      "cell_type": "code",
      "source": [
        "n=5\n",
        "for i in range(n):\n",
        "  if i%2==0:\n",
        "    for j in range(n):\n",
        "      if j<=i:\n",
        "        print(\"*\",end=\" \")\n",
        "      else:\n",
        "        print(\" \",end=\" \")\n",
        "    print()\n",
        "  else:\n",
        "    for j in range(n):\n",
        "      if j<=i:\n",
        "        print(i+1,end=\" \")\n",
        "      else:\n",
        "        print(\" \",end=\" \")\n",
        "    print()"
      ],
      "metadata": {
        "colab": {
          "base_uri": "https://localhost:8080/"
        },
        "id": "i8QTkDqVB69F",
        "outputId": "91e19d07-aa02-4dba-91cd-4faa691ab63d"
      },
      "execution_count": 32,
      "outputs": [
        {
          "output_type": "stream",
          "name": "stdout",
          "text": [
            "*         \n",
            "2 2       \n",
            "* * *     \n",
            "4 4 4 4   \n",
            "* * * * * \n"
          ]
        }
      ]
    }
  ]
}